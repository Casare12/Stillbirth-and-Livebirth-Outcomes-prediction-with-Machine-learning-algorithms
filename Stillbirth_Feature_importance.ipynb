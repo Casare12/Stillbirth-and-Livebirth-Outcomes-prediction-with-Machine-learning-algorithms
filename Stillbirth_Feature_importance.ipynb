{
  "nbformat": 4,
  "nbformat_minor": 0,
  "metadata": {
    "colab": {
      "provenance": []
    },
    "kernelspec": {
      "name": "python3",
      "display_name": "Python 3"
    },
    "language_info": {
      "name": "python"
    }
  },
  "cells": [
    {
      "cell_type": "code",
      "execution_count": 1,
      "metadata": {
        "id": "S8QRBrI1IKub",
        "colab": {
          "base_uri": "https://localhost:8080/"
        },
        "outputId": "40d1fb5f-7dc4-49f5-f81d-67ebefd5702c"
      },
      "outputs": [
        {
          "output_type": "stream",
          "name": "stdout",
          "text": [
            "Unique elements in 'age':\n",
            "[12 13 14 15 16 17 18 19 20 21 22 23 24 25 26 27 28 29 30 31 32 33 34 35\n",
            " 36 37 38 39 40 41 42 43 44 45 47 48 49 50]\n",
            "\n",
            "Unique elements in 'parity':\n",
            "[0 1 2 4 3 5 6]\n",
            "\n",
            "Unique elements in 'gravida':\n",
            "[2 1 3 4 5 6]\n",
            "\n",
            "Unique elements in 'numbabies':\n",
            "[1 2 3]\n",
            "\n",
            "Unique elements in 'gestation':\n",
            "[41 40 37 38 36 39 30 26 33 35 32 28 42 34 43 31 29 27]\n",
            "\n",
            "Unique elements in 'year':\n",
            "[3 2 1]\n",
            "\n",
            "Unique elements in 'Hxob':\n",
            "[3 2 1]\n",
            "\n",
            "Unique elements in 'Hxantenatal':\n",
            "[5 4 3 1 2]\n",
            "\n",
            "Unique elements in 'Deliverymethod':\n",
            "[1 0 2]\n",
            "\n",
            "Unique elements in 'Hemamount':\n",
            "[3 1 2 5 4 6 7]\n",
            "\n",
            "Unique elements in 'Fetalheart':\n",
            "[1 0]\n",
            "\n",
            "Unique elements in 'Weight':\n",
            "[3.   2.9  2.7  2.8  2.55 2.5  1.7  2.2  1.2  1.4  1.9  3.3  1.65 2.6\n",
            " 1.3  2.   2.4  3.1  0.9  3.5  3.7  3.2  4.11 3.9  1.43 2.57 2.65 1.5\n",
            " 2.3  3.8  2.1  3.4  2.83 3.18 3.6  1.95 1.07 1.93 3.15 3.25 4.6  1.8\n",
            " 1.6  4.3   nan 1.   4.   3.07 2.05 2.71 3.74 1.96 3.75 3.35 2.75 0.4\n",
            " 2.93 4.25 2.45 2.34 3.46 2.85 3.72 1.45 4.1  4.4  3.32 1.1  3.28 3.05\n",
            " 2.35 1.25 1.75 0.87 3.12 4.2  3.55 2.25 0.5  3.45 2.46 3.73 3.48 2.51\n",
            " 3.34 3.22 1.94 3.41 3.85 3.23 2.95 3.52 3.65 4.5  3.26 2.98 2.84 0.97\n",
            " 3.57 4.9  2.15 1.91 3.53 5.   3.24 4.15 3.67 2.79 2.24 1.02 5.5  0.75\n",
            " 3.16 1.74 4.38 4.8  3.04 0.8  4.75 2.61 3.95 4.65 1.18 3.56 5.3  5.6\n",
            " 4.7  2.96 3.42 4.01 1.42 4.13 4.05 3.68 2.54 0.3  1.12 3.36 2.38 1.24\n",
            " 3.86 1.55 3.01 0.7  5.2  3.47 1.15 1.01 3.76 2.62 2.64 4.35 3.38 0.96\n",
            " 1.52 4.02 2.22 3.71 2.94 2.86 0.6  3.54 2.52 2.48 2.56 2.44 0.95 1.23\n",
            " 4.55 0.79 1.78 4.18 2.53 1.79 1.47 1.98 5.1  2.78 3.51 3.99 2.66 1.63\n",
            " 3.11 2.11 3.62 3.21 2.16 2.36 1.26 2.68 2.81 2.77 2.43 2.82 2.32 3.79\n",
            " 3.03 2.18 0.86 2.42]\n",
            "\n",
            "Unique elements in 'Educlevel':\n",
            "[1 2 3]\n",
            "\n",
            "Unique elements in 'Status':\n",
            "[1 0]\n",
            "\n"
          ]
        }
      ],
      "source": [
        "import pandas as pd\n",
        "\n",
        "# Read the dataset\n",
        "data = pd.read_csv('df1.csv')  # Replace 'updatepreg.csv' with the actual file path\n",
        "\n",
        "# Print unique elements in each column\n",
        "for column in data.columns:\n",
        "    unique_elements = data[column].unique()\n",
        "    print(f\"Unique elements in '{column}':\")\n",
        "    print(unique_elements)\n",
        "    print()"
      ]
    },
    {
      "cell_type": "code",
      "source": [
        "import pandas as pd\n",
        "from sklearn.preprocessing import LabelEncoder\n",
        "from sklearn.ensemble import RandomForestClassifier"
      ],
      "metadata": {
        "id": "7HYER7vtKRpJ"
      },
      "execution_count": 2,
      "outputs": []
    },
    {
      "cell_type": "code",
      "source": [
        "y = data.drop('Status', axis=1)\n",
        "target = data['Status']"
      ],
      "metadata": {
        "id": "sJ3HOhTJKWGl"
      },
      "execution_count": 5,
      "outputs": []
    },
    {
      "cell_type": "code",
      "source": [
        "# Convert target variable into dummy variables\n",
        "y_encoded = pd.get_dummies(y)"
      ],
      "metadata": {
        "id": "MieOblrXXFob"
      },
      "execution_count": 6,
      "outputs": []
    },
    {
      "cell_type": "code",
      "source": [
        "categorical_columns = ['parity', 'gravida', 'numbabies', 'Hxob', 'Hxantenatal', 'Deliverymethod', 'Fetalheart', 'Educlevel']\n",
        "encoder = LabelEncoder()\n",
        "\n",
        "for column in categorical_columns:\n",
        "    y[column] = encoder.fit_transform(y[column])"
      ],
      "metadata": {
        "id": "OIIX0LMTKcZc"
      },
      "execution_count": 7,
      "outputs": []
    },
    {
      "cell_type": "code",
      "source": [
        "y['Weight'] = y['Weight'].replace(' ', 0).astype(float)\n",
        "y['Weight'] = y['Weight'].fillna(y['Weight'].mean())"
      ],
      "metadata": {
        "id": "k-zE8sGJKtUw"
      },
      "execution_count": 8,
      "outputs": []
    },
    {
      "cell_type": "code",
      "source": [
        "model = RandomForestClassifier(random_state=42)\n",
        "model.fit(y, target)\n",
        "\n",
        "importance = model.feature_importances_"
      ],
      "metadata": {
        "id": "VX7TzhrDK4hf"
      },
      "execution_count": 11,
      "outputs": []
    },
    {
      "cell_type": "code",
      "source": [
        "for feature, score in zip(y.columns, importance):\n",
        "    print(f\"Feature: {feature}, Importance: {score}\")"
      ],
      "metadata": {
        "colab": {
          "base_uri": "https://localhost:8080/"
        },
        "id": "_HDIcSXwK-Mq",
        "outputId": "2a38ad2f-237d-4cc9-955f-56ae87df2eef"
      },
      "execution_count": 12,
      "outputs": [
        {
          "output_type": "stream",
          "name": "stdout",
          "text": [
            "Feature: age, Importance: 0.07298017173273612\n",
            "Feature: parity, Importance: 0.024400121627783336\n",
            "Feature: gravida, Importance: 0.028535718306637335\n",
            "Feature: numbabies, Importance: 0.006470986636798285\n",
            "Feature: gestation, Importance: 0.08500609202156463\n",
            "Feature: year, Importance: 0.024019872988119396\n",
            "Feature: Hxob, Importance: 0.013812334625035035\n",
            "Feature: Hxantenatal, Importance: 0.016704278373939355\n",
            "Feature: Deliverymethod, Importance: 0.015170377210280446\n",
            "Feature: Hemamount, Importance: 0.05098755461099185\n",
            "Feature: Fetalheart, Importance: 0.5382620001792373\n",
            "Feature: Weight, Importance: 0.10169945566397974\n",
            "Feature: Educlevel, Importance: 0.02195103602289707\n"
          ]
        }
      ]
    },
    {
      "cell_type": "code",
      "source": [
        "import matplotlib.pyplot as plt\n",
        "import seaborn as sns"
      ],
      "metadata": {
        "id": "usnkoJbyLpqJ"
      },
      "execution_count": 13,
      "outputs": []
    },
    {
      "cell_type": "code",
      "source": [
        "filtered_features = y.dropna(axis=1)\n",
        "\n",
        "model = RandomForestClassifier(random_state=42)\n",
        "model.fit(filtered_features, target)\n",
        "\n",
        "importance = model.feature_importances_"
      ],
      "metadata": {
        "id": "yKo6YUQhPXSV"
      },
      "execution_count": 14,
      "outputs": []
    },
    {
      "cell_type": "code",
      "source": [
        "feature_importance_df = pd.DataFrame({'y': filtered_features.columns, 'Importance': importance})"
      ],
      "metadata": {
        "id": "338uXHAEPb5s"
      },
      "execution_count": 15,
      "outputs": []
    },
    {
      "cell_type": "code",
      "source": [
        "feature_importance_df = feature_importance_df.sort_values('Importance', ascending=False)"
      ],
      "metadata": {
        "id": "B8cXH59ZPhOV"
      },
      "execution_count": 16,
      "outputs": []
    },
    {
      "cell_type": "code",
      "source": [
        "sns.set(style=\"whitegrid\")"
      ],
      "metadata": {
        "id": "cQYZQ4a0PmTc"
      },
      "execution_count": 19,
      "outputs": []
    },
    {
      "cell_type": "code",
      "source": [
        "plt.figure(figsize=(10, 6))\n",
        "barplot = sns.barplot(x='y', y='Importance', data=feature_importance_df)\n",
        "barplot.set_xticklabels(barplot.get_xticklabels(), rotation=90)\n",
        "plt.xlabel('Features')\n",
        "plt.ylabel('Importance')\n",
        "plt.title('Important variables in predicting the status')\n",
        "plt.tight_layout()\n",
        "plt.show()"
      ],
      "metadata": {
        "colab": {
          "base_uri": "https://localhost:8080/",
          "height": 601
        },
        "id": "7hUJBIoUPr2l",
        "outputId": "e29aa074-1661-4bd1-b2d4-5682e268a94f"
      },
      "execution_count": 21,
      "outputs": [
        {
          "output_type": "display_data",
          "data": {
            "text/plain": [
              "<Figure size 1000x600 with 1 Axes>"
            ],
            "image/png": "[encoded data removed]"
          },
          "metadata": {}
        }
      ]
    }
  ]
}